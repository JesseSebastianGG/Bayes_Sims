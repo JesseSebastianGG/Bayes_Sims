{
 "cells": [
  {
   "cell_type": "markdown",
   "metadata": {},
   "source": [
    "# Run lots of Binomial trials for random values of p\n",
    "Then investigate the distribution of p for a chosen type of observation.\n",
    "The individual trials are Binomial (10, p)."
   ]
  },
  {
   "cell_type": "markdown",
   "metadata": {},
   "source": [
    "### Imports"
   ]
  },
  {
   "cell_type": "code",
   "execution_count": 8,
   "metadata": {
    "collapsed": true
   },
   "outputs": [],
   "source": [
    "import numpy as np\n",
    "import matplotlib.pyplot as plt\n",
    "import random as rd\n",
    "from scipy.integrate import quad"
   ]
  },
  {
   "cell_type": "markdown",
   "metadata": {},
   "source": [
    "### Generate the data\n",
    "User inputs number of Bin(10, p) trials; 10^6 gets good data and takes a few seconds."
   ]
  },
  {
   "cell_type": "code",
   "execution_count": 36,
   "metadata": {
    "collapsed": false
   },
   "outputs": [
    {
     "name": "stdout",
     "output_type": "stream",
     "text": [
      "Trial size? 10 is a classic; 100 gets certainty. 100\n",
      "How many n-ples to run? 10^6 suggested. 1000000\n",
      "[(0.13013431687659482, array([18])), (0.9815934643209753, array([98])), (0.8406067591266602, array([90])), (0.5667326384599799, array([64])), (0.13213187074090427, array([16])), (0.6444876501880141, array([70])), (0.20759400684549156, array([22])), (0.08200098989839943, array([12])), (0.6622348042535898, array([57])), (0.4099475954561781, array([31]))]\n"
     ]
    }
   ],
   "source": [
    "p_list = []\n",
    "n, trials = int(input(\"Trial size? 10 suggested. \")), 1\n",
    "power = int(input(\"How many n-ples to run? 10^6 suggested. \"))\n",
    "for i in range(power):\n",
    "    x = rd.random()\n",
    "    p_list.append((x, np.random.binomial(n, x, trials)))\n",
    "\n",
    "print(p_list[0:10])"
   ]
  },
  {
   "cell_type": "markdown",
   "metadata": {},
   "source": [
    "### Filter out the desired data, visualise and analyse the parameter's distribution.\n",
    "NB for trials around 10^6, the experimental mean and deviation are very close to the theoretical statistics. User inputs desired observation from 10 trials, eg 2. If you chose a small number of trials above, then note that the default 100 bins in the histogram below will produce a less useful visualisation."
   ]
  },
  {
   "cell_type": "code",
   "execution_count": 39,
   "metadata": {
    "collapsed": false
   },
   "outputs": [
    {
     "name": "stdout",
     "output_type": "stream",
     "text": [
      "How many H of 10 trials did you see? 50\n"
     ]
    },
    {
     "data": {
      "image/png": "[encoded data removed]",
      "text/plain": [
       "<matplotlib.figure.Figure at 0x1508256a6d8>"
      ]
     },
     "metadata": {},
     "output_type": "display_data"
    },
    {
     "name": "stdout",
     "output_type": "stream",
     "text": [
      "Empirical mean: 0.50009908735313646; Theoretical mean: 0.49999999999999994; Emp'l Ssev: 0.050393229201875465; The'l sdev: 0.04926646391590643 \n"
     ]
    }
   ],
   "source": [
    "shortlist_1 = [] # Contains pairs (probability, X_obs)\n",
    "shortlist = [] # Contains only probabilities\n",
    "study_val = int(input(\"How many H of %r trials did you see? \" %(n)))\n",
    "shortlist_temp = filter(lambda y: y[1]==study_val ,p_list)\n",
    "\n",
    "for p in shortlist_temp:\n",
    "    #print (p)\n",
    "    shortlist_1.append(p)\n",
    "    shortlist.append(p[0])\n",
    "\n",
    "shortlist.sort()\n",
    "\n",
    "plt.hist(shortlist, bins=100)\n",
    "plt.show()\n",
    "\n",
    "theoretical_mean = quad(lambda x: x**(1+study_val) * (1-x)**(n - study_val), 0, 1)[0] / quad(lambda x: x**study_val * (1-x)**(n - study_val), 0, 1)[0]\n",
    "expected_square = quad(lambda x: x**(2+study_val) * (1-x)**(n - study_val), 0, 1)[0] / quad(lambda x: x**study_val * (1-x)**(n - study_val), 0, 1)[0]\n",
    "theoretical_var = expected_square - theoretical_mean**2\n",
    "theoretical_stdev = theoretical_var**0.5\n",
    "\n",
    "print (\"Empirical mean: %r; Theoretical mean: %r; Emp'l Sdev: %r; The'l sdev: %r \" %(np.mean(shortlist), theoretical_mean, np.std(shortlist), theoretical_stdev))"
   ]
  },
  {
   "cell_type": "code",
   "execution_count": null,
   "metadata": {
    "collapsed": false
   },
   "outputs": [],
   "source": []
  },
  {
   "cell_type": "code",
   "execution_count": null,
   "metadata": {
    "collapsed": true
   },
   "outputs": [],
   "source": []
  }
 ],
 "metadata": {
  "kernelspec": {
   "display_name": "Python 3",
   "language": "python",
   "name": "python3"
  },
  "language_info": {
   "codemirror_mode": {
    "name": "ipython",
    "version": 3
   },
   "file_extension": ".py",
   "mimetype": "text/x-python",
   "name": "python",
   "nbconvert_exporter": "python",
   "pygments_lexer": "ipython3",
   "version": "3.6.0"
  }
 },
 "nbformat": 4,
 "nbformat_minor": 2
}
